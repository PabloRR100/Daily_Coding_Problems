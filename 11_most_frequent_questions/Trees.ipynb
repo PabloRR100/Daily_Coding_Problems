{
 "cells": [
  {
   "cell_type": "markdown",
   "metadata": {},
   "source": [
    "# Trees"
   ]
  },
  {
   "cell_type": "markdown",
   "metadata": {},
   "source": [
    "## Is this a Binary Search Tree ?"
   ]
  },
  {
   "cell_type": "code",
   "execution_count": 5,
   "metadata": {},
   "outputs": [],
   "source": [
    "class Node: \n",
    "    def __init__(self, v, l=None, r=None):\n",
    "        self.v = v\n",
    "        self.l = l\n",
    "        self.r = r"
   ]
  },
  {
   "cell_type": "code",
   "execution_count": 13,
   "metadata": {},
   "outputs": [],
   "source": [
    "A = Node(7)\n",
    "A.l = Node(3)\n",
    "A.l.l = Node(1)\n",
    "A.r = Node(9)\n",
    "A.r.l = Node(11)\n",
    "A.r.r = Node(10)"
   ]
  },
  {
   "cell_type": "code",
   "execution_count": 14,
   "metadata": {},
   "outputs": [],
   "source": [
    "from math import inf"
   ]
  },
  {
   "cell_type": "code",
   "execution_count": 15,
   "metadata": {},
   "outputs": [],
   "source": [
    "def helper(n, L, R):\n",
    "    # Base Case\n",
    "    if not n:\n",
    "        return True\n",
    "    # Recursive Case\n",
    "    return (n.v > L and n.v < R) and helper(n.l, L, n.v) and helper(n.r, n.v, R)\n",
    "\n",
    "def is_this_BST(n:Node):\n",
    "    return helper(n.l, -inf, n.v) and helper(n.r, n.v, inf)"
   ]
  },
  {
   "cell_type": "code",
   "execution_count": 16,
   "metadata": {},
   "outputs": [
    {
     "data": {
      "text/plain": [
       "False"
      ]
     },
     "execution_count": 16,
     "metadata": {},
     "output_type": "execute_result"
    }
   ],
   "source": [
    "is_this_BST(A)"
   ]
  },
  {
   "cell_type": "markdown",
   "metadata": {},
   "source": [
    "## Lowest Common Ancestor"
   ]
  },
  {
   "cell_type": "code",
   "execution_count": 17,
   "metadata": {},
   "outputs": [],
   "source": [
    "A = Node(7)\n",
    "B = A.l = Node(3)\n",
    "C = A.l.l = Node(1)\n",
    "D = A.r = Node(9)\n",
    "E = A.r.l = Node(11)\n",
    "F = A.r.r = Node(10)"
   ]
  },
  {
   "cell_type": "code",
   "execution_count": 21,
   "metadata": {},
   "outputs": [],
   "source": [
    "def helper(n, n1, n2):\n",
    "    \n",
    "    if not n:\n",
    "        return None\n",
    "    \n",
    "    left = helper(n.l, n1, n2)\n",
    "    right = helper(n.r, n1, n2)\n",
    "    \n",
    "    if left and right:\n",
    "        return n\n",
    "    \n",
    "    if (left or right) and n in [n1,n2]:\n",
    "        return n\n",
    "    \n",
    "    i\n",
    "        return True\n",
    "        \n",
    "    return left and right\n",
    "\n",
    "def lca(head, n1, n2):\n",
    "    return"
   ]
  },
  {
   "cell_type": "code",
   "execution_count": null,
   "metadata": {},
   "outputs": [],
   "source": []
  }
 ],
 "metadata": {
  "kernelspec": {
   "display_name": "Python 3",
   "language": "python",
   "name": "python3"
  },
  "language_info": {
   "codemirror_mode": {
    "name": "ipython",
    "version": 3
   },
   "file_extension": ".py",
   "mimetype": "text/x-python",
   "name": "python",
   "nbconvert_exporter": "python",
   "pygments_lexer": "ipython3",
   "version": "3.7.4"
  }
 },
 "nbformat": 4,
 "nbformat_minor": 4
}
