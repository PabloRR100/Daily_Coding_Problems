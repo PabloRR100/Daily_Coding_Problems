{
 "cells": [
  {
   "cell_type": "markdown",
   "metadata": {},
   "source": [
    "## Find n-th element of a Linked List"
   ]
  },
  {
   "cell_type": "markdown",
   "metadata": {},
   "source": [
    "**Using a Hash Table**"
   ]
  },
  {
   "cell_type": "code",
   "execution_count": 7,
   "metadata": {},
   "outputs": [],
   "source": [
    "class Node:\n",
    "    def __init__(self, v, n:Node=None):\n",
    "        self.v = v\n",
    "        self.n = n"
   ]
  },
  {
   "cell_type": "code",
   "execution_count": 4,
   "metadata": {},
   "outputs": [],
   "source": [
    "D = Node('D')\n",
    "C = Node('C', D)\n",
    "B = Node('B', C)\n",
    "A = Node('A', B)"
   ]
  },
  {
   "cell_type": "code",
   "execution_count": 42,
   "metadata": {},
   "outputs": [],
   "source": [
    "from collections import defaultdict\n",
    "def nth_element(l:Node, N:int):\n",
    "    nodes = defaultdict(str)\n",
    "    c = 0\n",
    "    while l.n:\n",
    "        nodes[c] = l.v\n",
    "        c += 1\n",
    "        l = l.n\n",
    "        \n",
    "    nodes[c] = l.v\n",
    "    L = len(nodes.keys())\n",
    "    if N > L or N <= 0:\n",
    "        return None\n",
    "    return nodes[L-N]"
   ]
  },
  {
   "cell_type": "code",
   "execution_count": 44,
   "metadata": {},
   "outputs": [],
   "source": [
    "nth_element(A, 0)"
   ]
  },
  {
   "cell_type": "markdown",
   "metadata": {},
   "source": [
    "**Using a Two Pointers**"
   ]
  },
  {
   "cell_type": "code",
   "execution_count": 51,
   "metadata": {},
   "outputs": [],
   "source": [
    "from copy import copy\n",
    "def nth_element_pointers(l:Node, N:int):\n",
    "    L = 1\n",
    "    ll = copy(l)\n",
    "    while l.n:\n",
    "        L += 1\n",
    "        l = l.n\n",
    "    \n",
    "    if N > L or N <= 0:\n",
    "        return None\n",
    "    else:\n",
    "        r = 0\n",
    "        R = L - N\n",
    "        while r < R:\n",
    "            ll = ll.n\n",
    "            r += 1\n",
    "    return ll.v"
   ]
  },
  {
   "cell_type": "code",
   "execution_count": 54,
   "metadata": {},
   "outputs": [],
   "source": [
    "nth_element_pointers(A, 5)"
   ]
  },
  {
   "cell_type": "code",
   "execution_count": null,
   "metadata": {},
   "outputs": [],
   "source": []
  }
 ],
 "metadata": {
  "kernelspec": {
   "display_name": "Python 3",
   "language": "python",
   "name": "python3"
  },
  "language_info": {
   "codemirror_mode": {
    "name": "ipython",
    "version": 3
   },
   "file_extension": ".py",
   "mimetype": "text/x-python",
   "name": "python",
   "nbconvert_exporter": "python",
   "pygments_lexer": "ipython3",
   "version": "3.7.4"
  }
 },
 "nbformat": 4,
 "nbformat_minor": 4
}
