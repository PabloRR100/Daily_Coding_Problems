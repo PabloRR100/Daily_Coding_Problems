{
 "cells": [
  {
   "cell_type": "markdown",
   "metadata": {},
   "source": [
    "# Linked Lists"
   ]
  },
  {
   "cell_type": "code",
   "execution_count": 6,
   "metadata": {},
   "outputs": [],
   "source": [
    "class Node(object):\n",
    "    def __init__(self,v,n=None):\n",
    "        self.v = v\n",
    "        self.n = n"
   ]
  },
  {
   "cell_type": "code",
   "execution_count": 7,
   "metadata": {},
   "outputs": [],
   "source": [
    "def print_list(n):\n",
    "    while n.n:\n",
    "        print(n.v)\n",
    "        n = n.n\n",
    "    print(n.v)"
   ]
  },
  {
   "cell_type": "markdown",
   "metadata": {},
   "source": [
    "## 1 - Single Linked List Check Cycle"
   ]
  },
  {
   "cell_type": "code",
   "execution_count": 39,
   "metadata": {},
   "outputs": [],
   "source": [
    "# Opt 1: Extra storage\n",
    "def check_cycle(n:Node):\n",
    "    seen = set()\n",
    "    while n.n:\n",
    "        print(seen)\n",
    "        if n in seen:\n",
    "            return True\n",
    "        else:\n",
    "            seen.add(n)\n",
    "            n = n.n\n",
    "    return False"
   ]
  },
  {
   "cell_type": "code",
   "execution_count": 8,
   "metadata": {},
   "outputs": [
    {
     "name": "stdout",
     "output_type": "stream",
     "text": [
      "5\n",
      "3\n",
      "2\n",
      "1\n"
     ]
    }
   ],
   "source": [
    "n1 = Node(5)\n",
    "n2 = Node(3)\n",
    "n3 = Node(2)\n",
    "n4 = Node(1)\n",
    "n1.n = n2\n",
    "n2.n = n3\n",
    "n3.n = n4\n",
    "print_list(n1)"
   ]
  },
  {
   "cell_type": "code",
   "execution_count": 41,
   "metadata": {},
   "outputs": [
    {
     "name": "stdout",
     "output_type": "stream",
     "text": [
      "set()\n",
      "{<__main__.Node object at 0x7fb74e32fe10>}\n",
      "{<__main__.Node object at 0x7fb74e32fe10>, <__main__.Node object at 0x7fb74e32fdd0>}\n"
     ]
    },
    {
     "data": {
      "text/plain": [
       "False"
      ]
     },
     "execution_count": 41,
     "metadata": {},
     "output_type": "execute_result"
    }
   ],
   "source": [
    "check_cycle(n1)"
   ]
  },
  {
   "cell_type": "code",
   "execution_count": 42,
   "metadata": {},
   "outputs": [],
   "source": [
    "n1.n = n2\n",
    "n2.n = n3\n",
    "n3.n = n1\n",
    "# print_list(n1) -> infinite loop"
   ]
  },
  {
   "cell_type": "code",
   "execution_count": 44,
   "metadata": {},
   "outputs": [
    {
     "name": "stdout",
     "output_type": "stream",
     "text": [
      "set()\n",
      "{<__main__.Node object at 0x7fb74e32fe10>}\n",
      "{<__main__.Node object at 0x7fb74e32fe10>, <__main__.Node object at 0x7fb74e32fdd0>}\n",
      "{<__main__.Node object at 0x7fb74e32fe10>, <__main__.Node object at 0x7fb74e32fe50>, <__main__.Node object at 0x7fb74e32fdd0>}\n"
     ]
    },
    {
     "data": {
      "text/plain": [
       "True"
      ]
     },
     "execution_count": 44,
     "metadata": {},
     "output_type": "execute_result"
    }
   ],
   "source": [
    "check_cycle(n1)"
   ]
  },
  {
   "cell_type": "code",
   "execution_count": 47,
   "metadata": {},
   "outputs": [],
   "source": [
    "# Opt 2: 2 runners\n",
    "def check_cycle(n:Node):\n",
    "    p1 = n\n",
    "    p2 = p1.n\n",
    "    while p2.n:\n",
    "        if p1 == p2:\n",
    "            return True\n",
    "        else:\n",
    "            p2 = p2.n.n\n",
    "            p1 = p1.n\n",
    "    return False"
   ]
  },
  {
   "cell_type": "code",
   "execution_count": 48,
   "metadata": {},
   "outputs": [
    {
     "data": {
      "text/plain": [
       "False"
      ]
     },
     "execution_count": 48,
     "metadata": {},
     "output_type": "execute_result"
    }
   ],
   "source": [
    "n1 = Node(5)\n",
    "n2 = Node(3)\n",
    "n3 = Node(2)\n",
    "n4 = Node(1)\n",
    "n1.n = n2\n",
    "n2.n = n3\n",
    "n3.n = n4\n",
    "check_cycle(n1)"
   ]
  },
  {
   "cell_type": "code",
   "execution_count": 49,
   "metadata": {},
   "outputs": [
    {
     "data": {
      "text/plain": [
       "True"
      ]
     },
     "execution_count": 49,
     "metadata": {},
     "output_type": "execute_result"
    }
   ],
   "source": [
    "n1.n = n2\n",
    "n2.n = n3\n",
    "n3.n = n1\n",
    "check_cycle(n1)"
   ]
  },
  {
   "cell_type": "markdown",
   "metadata": {},
   "source": [
    "## 2 - Reverse Linked List Inplace"
   ]
  },
  {
   "cell_type": "code",
   "execution_count": 5,
   "metadata": {},
   "outputs": [
    {
     "ename": "NameError",
     "evalue": "name 'Node' is not defined",
     "output_type": "error",
     "traceback": [
      "\u001b[0;31m\u001b[0m",
      "\u001b[0;31mNameError\u001b[0mTraceback (most recent call last)",
      "\u001b[0;32m<ipython-input-5-0de1571b219e>\u001b[0m in \u001b[0;36m<module>\u001b[0;34m\u001b[0m\n\u001b[0;32m----> 1\u001b[0;31m \u001b[0mn1\u001b[0m \u001b[0;34m=\u001b[0m \u001b[0mNode\u001b[0m\u001b[0;34m(\u001b[0m\u001b[0;36m5\u001b[0m\u001b[0;34m)\u001b[0m\u001b[0;34m\u001b[0m\u001b[0;34m\u001b[0m\u001b[0m\n\u001b[0m\u001b[1;32m      2\u001b[0m \u001b[0mn2\u001b[0m \u001b[0;34m=\u001b[0m \u001b[0mNode\u001b[0m\u001b[0;34m(\u001b[0m\u001b[0;36m3\u001b[0m\u001b[0;34m)\u001b[0m\u001b[0;34m\u001b[0m\u001b[0;34m\u001b[0m\u001b[0m\n\u001b[1;32m      3\u001b[0m \u001b[0mn3\u001b[0m \u001b[0;34m=\u001b[0m \u001b[0mNode\u001b[0m\u001b[0;34m(\u001b[0m\u001b[0;36m2\u001b[0m\u001b[0;34m)\u001b[0m\u001b[0;34m\u001b[0m\u001b[0;34m\u001b[0m\u001b[0m\n\u001b[1;32m      4\u001b[0m \u001b[0mn4\u001b[0m \u001b[0;34m=\u001b[0m \u001b[0mNode\u001b[0m\u001b[0;34m(\u001b[0m\u001b[0;36m1\u001b[0m\u001b[0;34m)\u001b[0m\u001b[0;34m\u001b[0m\u001b[0;34m\u001b[0m\u001b[0m\n\u001b[1;32m      5\u001b[0m \u001b[0mn1\u001b[0m\u001b[0;34m.\u001b[0m\u001b[0mn\u001b[0m \u001b[0;34m=\u001b[0m \u001b[0mn2\u001b[0m\u001b[0;34m\u001b[0m\u001b[0;34m\u001b[0m\u001b[0m\n",
      "\u001b[0;31mNameError\u001b[0m: name 'Node' is not defined"
     ]
    }
   ],
   "source": [
    "n1 = Node(5)\n",
    "n2 = Node(3)\n",
    "n3 = Node(2)\n",
    "n4 = Node(1)\n",
    "n1.n = n2\n",
    "n2.n = n3\n",
    "n3.n = n4\n",
    "print_list(n1)"
   ]
  },
  {
   "cell_type": "code",
   "execution_count": 52,
   "metadata": {},
   "outputs": [],
   "source": [
    "def reverse_ll_inplace(n:Node):\n",
    "    prev = next = None\n",
    "    cur = n\n",
    "    while cur:\n",
    "        next = cur.n\n",
    "        cur.n = prev\n",
    "        \n",
    "        prev = cur\n",
    "        cur = next\n",
    "    return prev"
   ]
  },
  {
   "cell_type": "code",
   "execution_count": 53,
   "metadata": {},
   "outputs": [
    {
     "name": "stdout",
     "output_type": "stream",
     "text": [
      "1\n",
      "2\n",
      "3\n",
      "5\n"
     ]
    }
   ],
   "source": [
    "print_list(reverse_ll_inplace(n1))"
   ]
  },
  {
   "cell_type": "markdown",
   "metadata": {},
   "source": [
    "## 3 - N-th to last element"
   ]
  },
  {
   "cell_type": "code",
   "execution_count": 56,
   "metadata": {},
   "outputs": [
    {
     "data": {
      "text/plain": [
       "<__main__.Node at 0x7fb74e84cb50>"
      ]
     },
     "execution_count": 56,
     "metadata": {},
     "output_type": "execute_result"
    }
   ],
   "source": [
    "reverse_ll_inplace(n1)"
   ]
  },
  {
   "cell_type": "code",
   "execution_count": 21,
   "metadata": {},
   "outputs": [],
   "source": [
    "# Extra Space Option\n",
    "from collections import defaultdict\n",
    "\n",
    "def nth_to_last(n, K):\n",
    "    i = 0\n",
    "    d = defaultdict()\n",
    "    while n:\n",
    "        i += 1\n",
    "        d[i] = n\n",
    "        n = n.n\n",
    "        \n",
    "    if K < 0 or K > i:\n",
    "        return False\n",
    "    return d[i-K+1].v"
   ]
  },
  {
   "cell_type": "code",
   "execution_count": 22,
   "metadata": {},
   "outputs": [
    {
     "data": {
      "text/plain": [
       "5"
      ]
     },
     "execution_count": 22,
     "metadata": {},
     "output_type": "execute_result"
    }
   ],
   "source": [
    "nth_to_last(n1, 4)"
   ]
  },
  {
   "cell_type": "code",
   "execution_count": 29,
   "metadata": {},
   "outputs": [],
   "source": [
    "# No extra space Option --> Two pointers\n",
    "import copy\n",
    "def nth_to_last_no_space(h,K):\n",
    "    c = 0\n",
    "    n = copy.copy(h)\n",
    "    while n:\n",
    "        c +=1 \n",
    "        n = n.n\n",
    "    t = c - K\n",
    "    i = 0\n",
    "    while i < t:\n",
    "        h = h.n\n",
    "        i += 1\n",
    "    return h.v"
   ]
  },
  {
   "cell_type": "code",
   "execution_count": 31,
   "metadata": {},
   "outputs": [
    {
     "data": {
      "text/plain": [
       "3"
      ]
     },
     "execution_count": 31,
     "metadata": {},
     "output_type": "execute_result"
    }
   ],
   "source": [
    "nth_to_last_no_space(n1, 3)"
   ]
  },
  {
   "cell_type": "code",
   "execution_count": null,
   "metadata": {},
   "outputs": [],
   "source": []
  }
 ],
 "metadata": {
  "kernelspec": {
   "display_name": "Python 3",
   "language": "python",
   "name": "python3"
  }
 },
 "nbformat": 4,
 "nbformat_minor": 4
}
