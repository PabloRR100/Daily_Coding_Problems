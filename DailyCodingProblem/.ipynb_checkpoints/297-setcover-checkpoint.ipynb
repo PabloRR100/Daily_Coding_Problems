{
 "cells": [
  {
   "cell_type": "code",
   "execution_count": 1,
   "metadata": {},
   "outputs": [],
   "source": [
    "preferences = {\n",
    "    0: [0, 1, 3, 6],\n",
    "    1: [1, 4, 7],\n",
    "    2: [2, 4, 7, 5],\n",
    "    3: [3, 2, 5],\n",
    "    4: [5, 8]\n",
    "}"
   ]
  },
  {
   "cell_type": "code",
   "execution_count": 2,
   "metadata": {},
   "outputs": [
    {
     "data": {
      "text/plain": [
       "{0: [0, 1, 3, 6], 1: [1, 4, 7], 2: [2, 4, 7, 5], 3: [3, 2, 5], 4: [5, 8]}"
      ]
     },
     "execution_count": 2,
     "metadata": {},
     "output_type": "execute_result"
    }
   ],
   "source": [
    "preferences"
   ]
  },
  {
   "cell_type": "code",
   "execution_count": 3,
   "metadata": {},
   "outputs": [],
   "source": [
    "from collections import defaultdict\n",
    "drink_map = defaultdict(set)\n",
    "for pr, drinks in preferences.items():\n",
    "    for drink in drinks:\n",
    "        drink_map[drink].add(pr)"
   ]
  },
  {
   "cell_type": "code",
   "execution_count": 4,
   "metadata": {},
   "outputs": [
    {
     "data": {
      "text/plain": [
       "defaultdict(set,\n",
       "            {0: {0},\n",
       "             1: {0, 1},\n",
       "             3: {0, 3},\n",
       "             6: {0},\n",
       "             4: {1, 2},\n",
       "             7: {1, 2},\n",
       "             2: {2, 3},\n",
       "             5: {2, 3, 4},\n",
       "             8: {4}})"
      ]
     },
     "execution_count": 4,
     "metadata": {},
     "output_type": "execute_result"
    }
   ],
   "source": [
    "drink_map"
   ]
  },
  {
   "cell_type": "code",
   "execution_count": 8,
   "metadata": {},
   "outputs": [
    {
     "data": {
      "text/plain": [
       "[5, 1, 3, 4, 7, 2, 0, 6, 8]"
      ]
     },
     "execution_count": 8,
     "metadata": {},
     "output_type": "execute_result"
    }
   ],
   "source": [
    "drinks_preferences = sorted(drink_map, key=lambda x: len(drink_map[x]), reverse=True)\n",
    "drinks_preferences"
   ]
  },
  {
   "cell_type": "code",
   "execution_count": 9,
   "metadata": {},
   "outputs": [],
   "source": [
    "served = set()\n",
    "num_served = 0\n",
    "num_customers = len(preferences.keys())\n",
    "num_drinks = 0\n",
    "i = 0"
   ]
  },
  {
   "cell_type": "code",
   "execution_count": 10,
   "metadata": {},
   "outputs": [
    {
     "name": "stdout",
     "output_type": "stream",
     "text": [
      "served:  set()\n",
      "drink_map[drinks[i]] {2, 3, 4}\n",
      "served:  {2, 3, 4}\n",
      "served:  {2, 3, 4}\n",
      "drink_map[drinks[i]] {4}\n",
      "served:  {2, 3, 4}\n",
      "served:  {2, 3, 4}\n"
     ]
    },
    {
     "ename": "IndexError",
     "evalue": "list index out of range",
     "output_type": "error",
     "traceback": [
      "\u001b[0;31m---------------------------------------------------------------------------\u001b[0m",
      "\u001b[0;31mIndexError\u001b[0m                                Traceback (most recent call last)",
      "\u001b[0;32m<ipython-input-10-2021245a91c1>\u001b[0m in \u001b[0;36m<module>\u001b[0;34m\u001b[0m\n\u001b[1;32m      1\u001b[0m \u001b[0;32mwhile\u001b[0m \u001b[0mnum_served\u001b[0m \u001b[0;34m!=\u001b[0m \u001b[0mnum_customers\u001b[0m\u001b[0;34m:\u001b[0m\u001b[0;34m\u001b[0m\u001b[0;34m\u001b[0m\u001b[0m\n\u001b[1;32m      2\u001b[0m     \u001b[0mprint\u001b[0m\u001b[0;34m(\u001b[0m\u001b[0;34m'served: '\u001b[0m\u001b[0;34m,\u001b[0m \u001b[0mserved\u001b[0m\u001b[0;34m)\u001b[0m\u001b[0;34m\u001b[0m\u001b[0;34m\u001b[0m\u001b[0m\n\u001b[0;32m----> 3\u001b[0;31m     \u001b[0mprint\u001b[0m\u001b[0;34m(\u001b[0m\u001b[0;34m'drink_map[drinks[i]]'\u001b[0m\u001b[0;34m,\u001b[0m \u001b[0mdrink_map\u001b[0m\u001b[0;34m[\u001b[0m\u001b[0mdrinks\u001b[0m\u001b[0;34m[\u001b[0m\u001b[0mi\u001b[0m\u001b[0;34m]\u001b[0m\u001b[0;34m]\u001b[0m\u001b[0;34m)\u001b[0m\u001b[0;34m\u001b[0m\u001b[0;34m\u001b[0m\u001b[0m\n\u001b[0m\u001b[1;32m      4\u001b[0m     \u001b[0mserved\u001b[0m \u001b[0;34m|=\u001b[0m \u001b[0mdrink_map\u001b[0m\u001b[0;34m[\u001b[0m\u001b[0mdrinks\u001b[0m\u001b[0;34m[\u001b[0m\u001b[0mi\u001b[0m\u001b[0;34m]\u001b[0m\u001b[0;34m]\u001b[0m\u001b[0;34m\u001b[0m\u001b[0;34m\u001b[0m\u001b[0m\n\u001b[1;32m      5\u001b[0m     \u001b[0mprint\u001b[0m\u001b[0;34m(\u001b[0m\u001b[0;34m'served: '\u001b[0m\u001b[0;34m,\u001b[0m \u001b[0mserved\u001b[0m\u001b[0;34m)\u001b[0m\u001b[0;34m\u001b[0m\u001b[0;34m\u001b[0m\u001b[0m\n",
      "\u001b[0;31mIndexError\u001b[0m: list index out of range"
     ]
    }
   ],
   "source": [
    "while num_served != num_customers:\n",
    "    print('served: ', served)\n",
    "    print('drink_map[drinks_preferences[i]]', drink_map[drinks[i]])\n",
    "    served |= drink_map[drinks_preferences[i]]\n",
    "    print('served: ', served)\n",
    "    if len(served) > num_served:\n",
    "        num_served = len(served)\n",
    "        num_drinks += 1\n",
    "    i += 1"
   ]
  },
  {
   "cell_type": "code",
   "execution_count": null,
   "metadata": {},
   "outputs": [],
   "source": []
  }
 ],
 "metadata": {
  "kernelspec": {
   "display_name": "Python 3.7.4 64-bit ('ds': conda)",
   "language": "python",
   "name": "python37464bitdsconda161d4b50fa2d44b3adff82a327cf687d"
  },
  "language_info": {
   "codemirror_mode": {
    "name": "ipython",
    "version": 3
   },
   "file_extension": ".py",
   "mimetype": "text/x-python",
   "name": "python",
   "nbconvert_exporter": "python",
   "pygments_lexer": "ipython3",
   "version": "3.7.4"
  },
  "varInspector": {
   "cols": {
    "lenName": 16,
    "lenType": 16,
    "lenVar": 40
   },
   "kernels_config": {
    "python": {
     "delete_cmd_postfix": "",
     "delete_cmd_prefix": "del ",
     "library": "var_list.py",
     "varRefreshCmd": "print(var_dic_list())"
    },
    "r": {
     "delete_cmd_postfix": ") ",
     "delete_cmd_prefix": "rm(",
     "library": "var_list.r",
     "varRefreshCmd": "cat(var_dic_list()) "
    }
   },
   "types_to_exclude": [
    "module",
    "function",
    "builtin_function_or_method",
    "instance",
    "_Feature"
   ],
   "window_display": false
  }
 },
 "nbformat": 4,
 "nbformat_minor": 2
}
